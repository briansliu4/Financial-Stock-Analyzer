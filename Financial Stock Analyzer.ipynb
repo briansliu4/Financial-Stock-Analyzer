{
 "cells": [
  {
   "cell_type": "code",
   "execution_count": null,
   "id": "5e887697-0607-4615-8342-88cd17fd6eea",
   "metadata": {},
   "outputs": [],
   "source": [
    "from IPython.display import display, Math, Latex\n",
    "\n",
    "import pandas as pd\n",
    "import numpy as np\n",
    "import numpy_financial as npf\n",
    "import yfinance as yf\n",
    "import matplotlib.pyplot as plt\n",
    "from datetime import datetime\n",
    "import seaborn as sns"
   ]
  },
  {
   "cell_type": "code",
   "execution_count": null,
   "id": "d5ea95c9-6ebb-4609-9eb5-c6c724cb80d2",
   "metadata": {},
   "outputs": [],
   "source": [
    "# Gather ticker info, could be any number of tickers greater than 2 \n",
    "stocks = list((input('Enter a list of stocks for anaylsis, in the format Ticker Ticker etc..: ')).split())"
   ]
  },
  {
   "cell_type": "code",
   "execution_count": null,
   "id": "81f19502-4105-43bf-ba4e-8c907ff96a48",
   "metadata": {},
   "outputs": [],
   "source": [
    "start_date = \"2015-01-01\"\n",
    "end_date = \"2021-12-24\"\n",
    "\n",
    "history = yf.download(stocks, start = start_date, end = end_date)\n",
    "info = history.loc[:, \"Close\"].copy()"
   ]
  },
  {
   "cell_type": "code",
   "execution_count": null,
   "id": "7505b1c4-9618-44aa-8764-e253857d88a3",
   "metadata": {},
   "outputs": [],
   "source": [
    "info.plot(figsize = (20, 10), fontsize = 22, xlabel = \"Date (Year)\", ylabel = \"Value (USD)\").set(title = \"Stock Growth Over Time\")\n",
    "plt.style.use(\"seaborn\")\n",
    "plt.show()"
   ]
  },
  {
   "cell_type": "code",
   "execution_count": null,
   "id": "f4324f81-9d58-4547-b68c-fb1fb593e771",
   "metadata": {},
   "outputs": [],
   "source": [
    "# get normalized data, by multiplying through by 100 \n",
    "normData = info.div(info.iloc[0]).mul(100)\n",
    "\n",
    "# plot normalized data for more accurate analysis \n",
    "normData.plot(figsize = (20, 10), fontsize = 22, xlabel = \"Date (Year)\", ylabel = \"Value (USD)\").set(title = \"Stock Growth Over Time\")\n",
    "plt.style.use(\"seaborn\")\n",
    "plt.show()"
   ]
  },
  {
   "cell_type": "code",
   "execution_count": null,
   "id": "4ca655d6-40ff-4638-af69-e8cdd524ccc0",
   "metadata": {},
   "outputs": [],
   "source": [
    "# Output frequency graphs, \n",
    "for i in range(len(stocks)):\n",
    "    stock = normData[normData.columns[i]].copy().to_frame() \n",
    "    ret = stock.pct_change().dropna()\n",
    "    \n",
    "    ret.plot(kind = \"hist\", figsize = (20,10), bins = 100)\n",
    "    plt.show()"
   ]
  },
  {
   "cell_type": "code",
   "execution_count": null,
   "id": "29970e37-3de5-424a-8967-14736c9a7962",
   "metadata": {},
   "outputs": [],
   "source": [
    "all_info = info.pct_change().dropna().describe().T.loc[:, [\"mean\", \"std\"]]\n",
    "all_info[\"mean\"] = all_info[\"mean\"] * 252\n",
    "all_info[\"std\"] = all_info[\"std\"] * np.sqrt(252)"
   ]
  },
  {
   "cell_type": "code",
   "execution_count": null,
   "id": "989f2352-f855-4d80-9c14-9d5d6717bc88",
   "metadata": {},
   "outputs": [],
   "source": [
    "all_info.plot.scatter(x = \"std\", y = \"mean\", figsize = (20, 10), s = 50, fontsize = 20)\n",
    "for i in all_info.index:\n",
    "    plt.annotate(i, xy = (all_info.loc[i, \"std\"] + 0.002, all_info.loc[i, \"mean\"] + 0.002), size = 18)"
   ]
  },
  {
   "cell_type": "code",
   "execution_count": null,
   "id": "74ebb349-68b6-4706-bbc7-ed87ecfa123e",
   "metadata": {},
   "outputs": [],
   "source": []
  },
  {
   "cell_type": "code",
   "execution_count": null,
   "id": "a72bf9fa-3c96-4164-94db-35d9c16c45ea",
   "metadata": {},
   "outputs": [],
   "source": []
  }
 ],
 "metadata": {
  "kernelspec": {
   "display_name": "CFM101",
   "language": "python",
   "name": "cfm101"
  },
  "language_info": {
   "codemirror_mode": {
    "name": "ipython",
    "version": 3
   },
   "file_extension": ".py",
   "mimetype": "text/x-python",
   "name": "python",
   "nbconvert_exporter": "python",
   "pygments_lexer": "ipython3",
   "version": "3.8.3"
  }
 },
 "nbformat": 4,
 "nbformat_minor": 5
}
